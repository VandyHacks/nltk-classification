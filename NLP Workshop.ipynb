{
  "cells": [
    {
      "metadata": {
        "trusted": true
      },
      "cell_type": "code",
      "source": "import nltk\nnltk.download(\"movie_reviews\")",
      "execution_count": 3,
      "outputs": [
        {
          "output_type": "stream",
          "text": "[nltk_data] Downloading package movie_reviews to\n[nltk_data]     /home/nbuser/nltk_data...\n[nltk_data]   Unzipping corpora/movie_reviews.zip.\n",
          "name": "stdout"
        },
        {
          "output_type": "execute_result",
          "execution_count": 3,
          "data": {
            "text/plain": "True"
          },
          "metadata": {}
        }
      ]
    },
    {
      "metadata": {
        "trusted": true
      },
      "cell_type": "code",
      "source": "import random\nfrom nltk.corpus import movie_reviews\n\ndocuments = [(list(movie_reviews.words(fileid)), category)\n             for category in movie_reviews.categories()\n             for fileid in movie_reviews.fileids(category)]\n\nrandom.shuffle(documents)\n\nprint(documents[1])\n\nall_words = []\nfor w in movie_reviews.words():\n    all_words.append(w.lower())\n\nall_words = nltk.FreqDist(all_words)\nprint(all_words.most_common(15))\nprint(all_words[\"stupid\"])",
      "execution_count": 4,
      "outputs": [
        {
          "output_type": "stream",
          "text": "(['men', 'in', 'black', 'is', 'an', 'explosive', 'mix', 'of', 'science', 'fiction', ',', 'action', ',', 'and', 'comedy', 'that', 'hits', 'the', 'target', 'in', 'every', 'possible', 'way', '.', 'although', 'another', 'alien', 'movie', ',', 'men', 'in', 'black', 'succeeds', 'in', 'every', 'way', 'that', 'independence', 'day', 'didn', \"'\", 't', ',', 'and', 'towers', 'above', 'many', 'other', 'movies', 'of', 'its', 'type', '.', 'the', 'brilliant', 'acting', ',', 'especially', 'by', 'tommy', 'lee', 'jones', 'as', 'agent', 'kay', ',', 'is', 'also', 'as', 'good', 'as', 'it', 'gets', '.', 'director', 'barry', 'sonnenfeld', ',', 'who', 'was', 'behind', 'the', 'camera', 'for', 'the', 'addams', 'family', 'movies', 'and', 'get', 'shorty', ',', 'has', 'crafted', 'a', 'masterpiece', '.', 'the', 'story', 'behind', 'men', 'in', 'black', 'is', 'just', 'as', 'interesting', 'as', 'you', 'would', 'want', 'it', 'to', 'be', '.', 'the', 'men', 'in', 'black', ',', 'or', 'mib', ',', 'are', 'a', 'top', '-', 'secret', 'governmental', 'agency', 'that', 'is', 'not', 'known', 'to', 'exist', '.', 'the', 'mib', 'are', 'responsible', 'for', '\"', 'saving', 'the', 'world', 'from', 'the', 'scum', 'of', 'the', 'universe', '\"', '.', 'a', 'though', 'job', ',', 'indeed', '.', 'the', 'film', 'opens', 'with', 'a', 'truckload', 'of', 'illegal', 'aliens', '(', 'the', 'human', 'kind', ')', 'being', 'transported', 'across', 'the', 'mexico', 'border', 'and', 'into', 'the', 'united', 'states', '.', 'presumably', ',', 'these', '\"', 'aliens', '\"', 'are', 'all', 'migrant', 'workers', '.', 'that', 'is', ',', 'until', 'the', 'mib', 'show', 'up', 'and', 'begin', 'interrogating', 'them', '.', 'agent', 'kay', 'selects', 'a', 'particular', 'suspicious', 'worker', 'and', 'takes', 'him', 'away', 'from', 'the', 'other', 'local', 'authorities', 'to', 'discover', 'that', 'he', 'is', 'not', 'an', 'illegal', 'human', 'alien', ',', 'but', 'a', 'real', 'extra', '-', 'terrestrial', 'alien', '.', 'when', 'the', 'alien', 'makes', 'a', 'run', 'for', 'it', ',', 'agent', 'kay', 'is', 'forced', 'to', 'eliminate', 'the', 'alien', 'with', 'one', 'of', 'the', 'mib', \"'\", 's', 'very', 'unique', 'weapons', ',', 'and', 'after', 'one', 'of', 'the', 'local', 'law', 'enforcement', 'officers', 'witnesses', 'this', 'bizarre', 'occurrence', ',', 'agent', 'kay', 'is', 'forced', 'to', 'use', 'another', 'very', 'unique', 'device', 'on', 'them', '.', 'the', 'device', ',', 'described', 'as', '\"', 'out', 'of', 'state', '\"', ',', 'eliminates', 'the', 'memory', 'of', 'anyone', 'it', 'is', 'used', 'on', '.', '>', 'from', 'here', ',', 'we', 'are', 'introduced', 'to', 'james', 'edwards', ',', 'played', 'very', 'well', 'by', 'will', 'smith', '.', 'edwards', ',', 'a', 'police', 'officer', ',', 'is', 'chasing', 'a', 'fleeing', 'criminal', '.', 'the', 'criminal', 'gives', 'a', 'very', 'good', 'chase', ',', 'and', 'at', 'one', 'point', 'when', 'edwards', 'confronts', 'him', ',', 'the', 'criminal', 'pulls', 'out', 'a', 'very', 'different', 'looking', 'weapon', 'that', 'disintegrated', 'when', 'it', 'hit', 'the', 'ground', '.', 'edwards', 'continues', 'to', 'chase', 'the', 'very', 'athletic', 'criminal', 'to', 'the', 'top', 'of', 'a', 'building', ',', 'where', 'the', 'criminal', 'informs', 'edwards', 'that', 'he', 'must', 'let', 'him', 'go', ',', 'because', 'someone', 'is', 'after', 'him', '.', 'edwards', 'doesn', \"'\", 't', 'take', 'this', 'seriously', ',', 'but', 'when', 'the', 'criminal', 'shows', 'very', 'non', '-', 'human', 'characteristics', 'and', 'leaps', 'off', 'the', 'building', ',', 'he', 'begins', 'to', 'wonder', '.', 'back', 'at', 'the', 'police', 'station', ',', 'agent', 'kay', 'shows', 'up', 'to', 'ask', 'edwards', 'a', 'few', 'questions', '.', 'he', 'informs', 'edwards', 'that', 'is', 'was', ',', 'in', 'fact', ',', 'a', 'non', '-', 'human', 'that', 'he', 'was', 'chasing', ',', 'and', 'that', 'the', 'gun', 'he', 'pulled', 'out', 'was', 'definitely', 'not', 'man', '-', 'made', '.', 'he', 'has', 'edwards', 'identify', 'the', 'gun', ',', 'and', 'asks', 'edwards', 'to', 'come', 'to', 'the', 'mib', 'headquarters', 'the', 'following', 'day', '.', 'edwards', 'arrives', 'and', 'finds', 'that', 'he', 'is', 'involved', 'in', 'a', 'recruiting', 'process', ',', 'along', 'with', 'various', 'other', 'men', 'who', 'seem', 'a', 'bit', 'more', 'qualified', 'than', 'he', '.', 'after', 'goofing', 'up', 'for', 'half', 'of', 'the', 'time', ',', 'edwards', 'puts', 'on', 'a', 'show', 'at', 'the', 'firing', 'range', ',', 'and', 'agent', 'kay', 'notes', 'the', 'reason', 'why', 'he', 'feels', 'edwards', 'should', 'be', 'the', 'man', 'to', 'join', 'the', 'mib', ':', 'he', 'chased', 'down', 'the', '\"', 'criminal', '\"', 'on', 'foot', ',', 'which', 'is', 'something', 'that', 'no', 'one', 'is', 'supposed', 'to', 'be', 'able', 'to', 'do', '.', 'in', 'the', 'meantime', ',', 'an', 'upstate', 'new', 'york', 'farm', 'has', 'a', 'very', 'close', 'encounter', '.', 'edgar', '(', 'vincent', 'd', \"'\", 'onofrio', ')', ',', 'owner', 'of', 'the', 'farm', ',', 'investigates', 'a', 'strange', 'crash', 'landing', 'and', 'is', 'attacked', 'by', 'the', 'inhabitant', 'of', 'the', 'flying', 'object', ',', 'which', 'presumes', 'to', 'jump', 'inside', 'edgar', 'and', 'use', 'his', 'body', 'as', 'a', 'human', 'transport', '.', 'the', '\"', 'bug', '\"', ',', 'as', 'he', 'is', 'called', ',', 'is', 'an', 'intergalactic', 'terrorist', 'who', 'has', 'come', 'to', 'earth', 'to', 'attempt', 'to', 'kill', 'two', 'ambassadors', '.', 'and', 'it', 'up', 'to', 'the', 'mib', ',', 'with', 'newly', 'recruited', 'agent', 'jay', '(', 'formerly', 'james', 'edwards', ')', 'to', 'exterminate', 'the', 'bug', 'and', 'save', 'the', 'planet', 'from', 'intergalactic', 'war', '.', 'men', 'in', 'black', 'delightfully', 'combines', 'fast', '-', 'paced', 'action', 'with', 'often', 'hilarious', 'comedy', ',', 'which', 'is', 'usually', 'from', 'will', 'smith', ',', 'although', 'tommy', 'lee', 'jones', 'opens', 'up', 'his', 'comedic', 'personality', 'in', 'this', 'film', '.', 'the', 'special', 'effects', 'are', 'also', 'very', 'well', 'done', 'and', 'are', 'not', 'the', 'entire', 'source', 'of', 'the', 'plot', ',', 'as', 'in', 'another', 'big', 'alien', 'film', 'from', 'the', 'past', 'summer', '.', 'screenwriter', 'ed', 'solomon', ',', 'writer', 'of', 'super', 'mario', 'bros', '.', 'and', 'the', 'upcoming', 'x', '-', 'men', 'film', ',', 'has', 'surely', 'struck', 'gold', 'with', 'this', 'story', '.', 'all', 'ages', 'will', 'enjoy', 'men', 'in', 'black', '.', 'it', 'is', 'an', 'extremely', 'fun', 'film', 'that', 'you', 'will', 'want', 'to', 'see', 'again', '.', 'although', 'it', 'runs', 'a', 'very', 'quick', 'and', 'speedy', '96', 'minutes', ',', 'the', 'entire', 'film', 'from', 'beginning', 'to', 'end', 'is', 'a', 'non', '-', 'stop', 'adventure', '.', 'the', 'ending', 'of', 'the', 'film', ',', 'which', 'ties', 'up', 'a', 'few', 'loose', 'ends', 'for', 'one', 'of', 'the', 'main', 'characters', ',', 'is', 'also', 'very', 'well', 'done', '.', 'a', 'sequel', 'is', 'already', 'being', 'planned', ',', 'so', 'there', 'is', 'more', 'to', 'look', 'forward', 'to', '!'], 'pos')\n[(',', 77717), ('the', 76529), ('.', 65876), ('a', 38106), ('and', 35576), ('of', 34123), ('to', 31937), (\"'\", 30585), ('is', 25195), ('in', 21822), ('s', 18513), ('\"', 17612), ('it', 16107), ('that', 15924), ('-', 15595)]\n253\n",
          "name": "stdout"
        }
      ]
    },
    {
      "metadata": {
        "trusted": true
      },
      "cell_type": "code",
      "source": "documents = [(list(movie_reviews.words(fileid)), category)\n             for category in movie_reviews.categories()\n             for fileid in movie_reviews.fileids(category)]",
      "execution_count": 5,
      "outputs": []
    },
    {
      "metadata": {
        "trusted": true
      },
      "cell_type": "code",
      "source": "",
      "execution_count": null,
      "outputs": []
    }
  ],
  "metadata": {
    "kernelspec": {
      "name": "python36",
      "display_name": "Python 3.6",
      "language": "python"
    },
    "language_info": {
      "mimetype": "text/x-python",
      "nbconvert_exporter": "python",
      "name": "python",
      "pygments_lexer": "ipython3",
      "version": "3.6.6",
      "file_extension": ".py",
      "codemirror_mode": {
        "version": 3,
        "name": "ipython"
      }
    }
  },
  "nbformat": 4,
  "nbformat_minor": 2
}